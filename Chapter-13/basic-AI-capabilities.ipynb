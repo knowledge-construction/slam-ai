{
 "cells": [
  {
   "cell_type": "markdown",
   "metadata": {},
   "source": [
    "# Basic AI Examples\n",
    "\n",
    "* SUMMARY"
   ]
  },
  {
   "cell_type": "markdown",
   "metadata": {},
   "source": [
    "## Summary\n",
    "\n",
    "The following example show summarizing a single text, and summarizing an entire discussion thread."
   ]
  },
  {
   "cell_type": "code",
   "execution_count": 1,
   "metadata": {},
   "outputs": [
    {
     "name": "stderr",
     "output_type": "stream",
     "text": [
      "/home/professorf/miniconda3/envs/SLAM/lib/python3.12/site-packages/tqdm/auto.py:21: TqdmWarning: IProgress not found. Please update jupyter and ipywidgets. See https://ipywidgets.readthedocs.io/en/stable/user_install.html\n",
      "  from .autonotebook import tqdm as notebook_tqdm\n"
     ]
    },
    {
     "name": "stdout",
     "output_type": "stream",
     "text": [
      "My own definition of eLearning is: Learning and teaching that utilizes technology and electronic media formats over traditional resources . The three major areas that interventions should target are interconnectedness among (1) person, (2) behavior, and (3) environment . Organizations must support e-learning by offering a supportive culture .\n"
     ]
    }
   ],
   "source": [
    "#\n",
    "# SUMMARIZING ONE PIECE OF TEXT\n",
    "#\n",
    "\n",
    "# IMPORT the necessary packages\n",
    "################################################################################\n",
    "import pandas as pd\n",
    "from transformers import pipeline\n",
    "\n",
    "# SET a variable to some long piece of text\n",
    "################################################################################\n",
    "long_text = '''My own definition of culture is: A group of people who share and \n",
    "follow a set of spoken and in some cases unspoken beliefs, ideas, traditions, \n",
    "values, and knowledge both tacit and explicit. My own definition of eLearning \n",
    "is: Learning and teaching that utilizes technology and electronic media formats \n",
    "over traditional resources. The three pillars that determine the success or \n",
    "failure of e-learning programs are the interconnectedness among (1) person, \n",
    "(2) behavior, and (3) environment. These are the three major areas that \n",
    "interventions should target. 1.E-learners' cognitive skills: E-learners must \n",
    "have the prerequisite knowledge and skills necessary to participate in \n",
    "e-learning. Computer competency through training, and practice, and time \n",
    "management skills are essential. 2.Environment: Organizations must support \n",
    "e-learning by offering a supportive culture, incentives, models, resources, and\n",
    "fostering e-learning self-efficacy. 3. Belief and behavior: E-learners' must \n",
    "have high e-learning self-efficacy and the appropriate behavioral skills such as\n",
    "taking responsibility for learning (Mungania, 2003). From this example in the \n",
    "research article \"\"The Seven eLearning Barriers Facing Employees,\"\" I begin to \n",
    "see where eLearning and culture can have some commonalities. I believe that like\n",
    "these 3 pillars that determine the success or failure of eLearning programs, these\n",
    "3 pillars can create or remove barriers within a culture. I notice how culture is \n",
    "associated with traits such as cognitive skills of the culture, the environment in \n",
    "which the culture thrives, and the beliefs and behaviors of the culture. As we \n",
    "implement eLearning strategies into different cultures, we must look at these 3 \n",
    "pillars to create and maintain a successful eLearning program for the target \n",
    "culture. ELearning, like culture is not one size fits all and requires some \n",
    "different approaches to how it is employed in order to suit the target culture. \n",
    "I look forward to your definitions and to this discussion, have a great week \n",
    "everyone!\n",
    "'''\n",
    "\n",
    "# SELECT model and INSTANTIATE a summarizer object\n",
    "################################################################################\n",
    "model_id   = 'Falconsai/text_summarization'\n",
    "summarizer = pipeline(\"summarization\", model_id)\n",
    "\n",
    "\n",
    "# SUMMARIZE the long text\n",
    "################################################################################\n",
    "summary_obj = summarizer(long_text)\n",
    "summary_text = summary_obj[0]['summary_text']\n",
    "\n",
    "# PRINT the summary\n",
    "################################################################################\n",
    "print(summary_text)\n",
    "\n",
    "# OUTPUT:\n",
    "# My own definition of eLearning is: Learning and teaching that utilizes \n",
    "# technology and electronic media formats over traditional resources . The three \n",
    "# major areas that interventions should target are interconnectedness among (1) \n",
    "# person, (2) behavior, and (3) environment . Organizations must support \n",
    "# e-learning by offering a supportive culture ."
   ]
  },
  {
   "cell_type": "code",
   "execution_count": 2,
   "metadata": {},
   "outputs": [
    {
     "name": "stderr",
     "output_type": "stream",
     "text": [
      "Token indices sequence length is longer than the specified maximum sequence length for this model (555 > 512). Running this sequence through the model will result in indexing errors\n",
      "Your max_length is set to 80, but your input_length is only 49. Since this is a summarization task, where outputs shorter than the input are typically wanted, you might consider decreasing max_length manually, e.g. summarizer('...', max_length=24)\n",
      "Your max_length is set to 80, but your input_length is only 41. Since this is a summarization task, where outputs shorter than the input are typically wanted, you might consider decreasing max_length manually, e.g. summarizer('...', max_length=20)\n",
      "Your max_length is set to 80, but your input_length is only 74. Since this is a summarization task, where outputs shorter than the input are typically wanted, you might consider decreasing max_length manually, e.g. summarizer('...', max_length=37)\n"
     ]
    },
    {
     "name": "stdout",
     "output_type": "stream",
     "text": [
      "My own definition of eLearning is: Learning and teaching that utilizes technology and electronic media formats over traditional resources . The three major areas that interventions should target are interconnectedness among (1) person, (2) behavior, and (3) environment . Organizations must support e-learning by offering a supportive culture, incentives, models, resources, and fostering self-efficacy \n",
      "I agree that there must be high consideration of learner support in an eLearning environment . I think the same applies to learners . My personal definition of culture is to set expectations up front .\n",
      "Culture to me is taught or inherited by our close family members . We are taught certain beliefs, ideas, values and information early in age . As we grow older we become accustom to these ideas and beliefs and begin to accept and value them .\n",
      "eLearning is a system designed over time, that reflects the ideals, mores, customs, and beliefs of people who live in the same part of the world . I find it interesting the many ways that the different cultures learned in their home countries . Asian students tend to learn in the old-fashioned manner of lecture and rote memorization .\n",
      "I appreciate your inclusion of the words 'tacit' and 'explicit' you define culture as \"A group of people...\" What about when it's used as an object of possesion? Just my thoughts. I learned quite a bit by your comprehensive definition of e-Learning .\n",
      "I've been an ESL teacher in Asia for 6, going on 7, years now . It's generally considered improper to generalize (no pun intended) in America . I think one can generalize the behaviors of students from countries like Japan and China .\n",
      "Jan's definition of e-Learning would be: Learning that uses technology like video, media, texting, and/or the internet to deliver content to the learner . I appreciate Jack's \"3 pillars\" because its an excellent way of blending ideas with cultural concepts, the individul, behavior, and environment.\n",
      "I've witnessed this personally when working with the Chinese company I teach for, called HJ . They are online language company that developed in China with Chinese business practices, methodologies, etc. The Chinese were very shocked when \"Westerners\" would out right ask about Visas, taxes, pay, holidays etc.\n",
      "I don't think you are over-generalizing when describing the cultural learning practices of your students . It is common practice, at least, in my experience that the Asian institutions do teach that way: lecture, remote memorization, and a preoccupation with exams . How we use the language, for example English, to express ourselves reflects cultural programming .\n",
      "I think the most obvious connection between culture and eLearning would be the aims, goals and lesson content provided in the learning . In the case of systems approach there are many different parts creating a whole . An internal culture that supports the needs of the learner as well as being connected to the proper content, teaching methodology, and means of implementation would have a essential influence\n",
      "I'm here just trying to express it like a five-year old . Culture: The summation of social influences exerted by family, friends, education, language, religion, nationality, art and media . eLearning: Learning facilitated by interactive technology linking teacher and student .\n",
      "this year, we have a young Chinese woman who is our ESL intern . She said people at their offices will put up a Closed sign and curl up on their desks .\n",
      "I agree, Emily, and I tell my students something similar . Learning a new language fluently requires learning a whole new way of thinking .\n",
      "My definitions were as follows: Culture- a people-centered (language, ethnicity, biological factors, etc.) group of norms, beliefs, values and/or judgements that drive explicit and implicit behavior within a specific context . I really couldn't think about going into the different types of electronic mediums there were (technologies) and the who/what\n",
      "I think that it would be much more difficult to learn in an online environment . In online courses, we are expected to use the information and apply it to real world situations . These are just some things I came up with .\n",
      "I liked your definition of culture, especially how you worded it with being \"people-centered\" I ended up stating a \"group of people\" but this is incorrect because culture does not always refer to a group of people . I also liked how you mentioned the importance of the context in which behavior within a culture occurs .\n",
      "I am learning more and more as I read posts that I need to re-think my original definitions of culture and eLearning . You are completely correct and I just posted a reply to Cassidy concerning my wording of a \"group of people\" I totally agree that it can be used to define even inantimate objects such as the way a certain\n",
      "I liked you definitions of culture and eLearning, especially how it is taught or inherited by us from close family members . I see this with my niece and her daughter (I am a 29 year old Great-Uncle:) and how she is already instill our cultural knowledge within her .\n",
      "I define Culture as the combined affect on a person by the people, locations, education, and experiences they have been exposed to in their lifetime . I used to teach middle school and a large component of my work was helping kids define their communities .\n",
      "I love your point that culture is unwritten rules that everyone follows . It makes me think of the different departments I work with and the tricky issue of the lunch hour .\n",
      "I thin-k, especially with culture, was really limiting my definition to a broader, big picture definition and forgetting about how culture also exists in small groups . Culture: Original: To me, culture is the conglomeration of all of the people, situations, and environmental factors around a person that work together to create their identity . This includes geography, language\n",
      "I forget that sometimes aspects of our particular culture(s) can be imposed on us, and can extend on multiple levels . I was taught that being respectful meant not questioning opinions of our elders, but not thinking outside of the box prevented me from wanting to learn different perspectives .\n",
      "I agree, what some may have decided is a \"non-issue\" can mean all the difference in someone's day . I wonder what would happen if folks declined meetings (electronic appointments on email) or did not show for lunch meetings . You are right, it depends on which culture you choose to be a part of .\n",
      "I remember when I first started the OLIT program, I enrolled in an online class . I was so thankful for the support of my fellow classmates, the instructor and the technical support .\n",
      "I am very impressed with the level of thoughtfulness and the extent of teaching experience embedded in this class . I have never been an \"official\" teacher other than a lab instructor for freshmen physics students . My definitions: Culture: To be able to define this term, it is necessary to determine its context .\n",
      "Jan, I really didn't even put that piece together until I started thinking about what others were saying were the contributing factors . From that I realized that we actually are probably subject to our cultural factors more than we choose? At least that's where my thoughts started going.\n",
      "Lex, I really identify with your ideas about how culture impacts how we can translate information . I remember in my time teaching that I was always pushed to think about how my identity, things familiar to me used as examples might not be same for my students . Measuring the difference in culture and addressing it equally across all groups is a real challenge in teaching.\n",
      "My definition of culture is being restructured too . It makes me question if the definition itself is fluid since new types of cultures can/are being developed from different contexts all the time . Hope you have had a relaxing Labor Day weekend!\n",
      "I personally think this is true for myself . I have noticed that around certain groups of people, certain TV shows I watch, certain family members, certain areas of the country I've lived in . There are many other cultural influences that have in fact influenced me .\n",
      "Emily's comment on language made me think about how language isn't limited to English, German, French, Cantonese, Japanese . Cultures develop their own \"languages\" on top of the actual language people speak.\n",
      "Kerry's definiton that learning and teaching is facilitated by technology . Jack's three pillars were a very succint want of describing the eLearning process . Then if it doesn't happen in a traditional classroom setting, what is it?\n",
      "Lex, Cassidy, Kerry That thing about culture being reflected in language really struck me . We tell our kids to \"Do your best! Be good!\" and Dutch parents tell their children \"Be normal!\" The opportunity for misinterpretations in email can be enormous . I made a self-deprecating joke about it being \"too rich for my\n",
      "In the workplace, we naturally should be respectful of other people's cultures, but we don't have any idea what they are . You guys, my classmates, have revealed some things about your cultures on the boards . I have already noted elsewhere that I got into terrible trouble for a well-meant email .\n",
      "I'm new to the concept of e-learning but from what I've gathered so far, it's much more oriented towards flexibility of the learner in terms of learning style, life style and even intelligence and prior knowledge . I was born in Queens and raised on Long Island. I hope that no one will ever label me a \"stereo\n",
      "Tammy has always had a picture of a bunch of people standing on a map, on the country they live in, working as a group to create culture rather than one person who is affected by all that happens around him .\n",
      "In many languages the meaning can not be directly translated into English . It requires some understanding of how a native-speaker views the world, their social/cultural norms and perspectives . Even the art of \"selfdepreciation\" can be misconstrued .\n",
      "I think in general we are not aware of the affect of our cultural programming . At the core, its something that is deeply imbedded in the way we think, act, communicate and percieve the world . I think we begin to become aware when 1) we reflect upon our possible cultural programming and how it affects us .\n",
      "The Japanese language has something called \"keigo\" or honorifics . The basics of it are that based upon the social level of the person you are speaking to (higher or lower than yourself) you will change the structure of the verb or sentence you are using to adequetly acknowledge the other person's level .\n",
      "I think the same thing is true for Northern New Mexico culture being different . I am from Taos and when I moved to Albuquerque 10 years ago I had many people ask me where I was from because I had an accent .\n",
      "Culture to me is one's knowledge, beliefs, values, way of life and mannerisms . E-learning is the method in which one learns through the sources of technology rather than the traditional sources of learning . Cassidy has stated how \"culture is unique to each others experience(s)\"\n",
      "Subcultures can be formulated all around us . Even where you attend school and the campus itself is a subculture . I believe like you stated that it sets us apart from the rest of the world .\n",
      "I think we most often become aware of our \"cultural programming\" when we collide with others from different cultures . Most of our tour mates were from Australia but there were a few families from the US . I think that's an American trait that people from other cultures judge us as a whole upon.\n"
     ]
    }
   ],
   "source": [
    "#\n",
    "# SUMMARIZING AN ENTIRE DISCUSSION THREAD\n",
    "#\n",
    "\n",
    "# IMPORT the necessary packages\n",
    "################################################################################\n",
    "import pandas as pd\n",
    "from transformers import pipeline\n",
    "\n",
    "# READ a csv file\n",
    "################################################################################\n",
    "filename = 'IAM42.csv'         # Change to your file name\n",
    "df = pd.read_csv(filename)     # Read csv into a data frame\n",
    "\n",
    "# SELECT model and INSTANTIATE a summarizer object\n",
    "################################################################################\n",
    "model_id = 'Falconsai/text_summarization'        # Change to suit your data\n",
    "summarizer = pipeline(\"summarization\", model_id) # Instantiate summarizer\n",
    "\n",
    "# CONVERT discussion thread to a list of posts\n",
    "################################################################################\n",
    "posts        = list(df.Thread)\n",
    "summary_obj  = summarizer(posts, max_length=80)\n",
    "\n",
    "# Extract the summaries into a list\n",
    "summary_text = [summary['summary_text'] for summary in summary_obj] \n",
    "\n",
    "# CONVERT discussion thread to a list of posts\n",
    "################################################################################\n",
    "\n",
    "# Print text\n",
    "[print(text) for text in summary_text]\n",
    "\n",
    "# Save text\n",
    "output_filename = 'outfile.txt'\n",
    "# convert text list into one big text data with posts separated by a newline\n",
    "sep = '\\n'\n",
    "big_text = sep.join(summary_text)\n",
    "with open(output_filename, 'w') as fd:\n",
    "    fd.write(big_text)"
   ]
  },
  {
   "cell_type": "markdown",
   "metadata": {},
   "source": [
    "## Translation\n",
    "\n",
    "The following code shows translating a single piece of text, and translating an entire discussion saved as a csv file."
   ]
  },
  {
   "cell_type": "code",
   "execution_count": 5,
   "metadata": {},
   "outputs": [
    {
     "data": {
      "text/plain": [
       "['Hola, ¿cuál es tu nombre?']"
      ]
     },
     "execution_count": 5,
     "metadata": {},
     "output_type": "execute_result"
    }
   ],
   "source": [
    "import torch\n",
    "import pandas as pd\n",
    "\n",
    "from transformers import M2M100ForConditionalGeneration, M2M100Tokenizer\n",
    "\n",
    "device = torch.device(\"cuda\" if torch.cuda.is_available() else \"cpu\")\n",
    "\n",
    "model_name = \"facebook/m2m100_418M\"\n",
    "model_name = \"facebook/m2m100_1.2B\"\n",
    "\n",
    "model     = M2M100ForConditionalGeneration.from_pretrained(model_name).to(device)\n",
    "tokenizer = M2M100Tokenizer.from_pretrained(model_name)\n",
    "\n",
    "#\n",
    "# Source and Target Lang need to use the ISO 639 country codes:\n",
    "#   https://en.wikipedia.org/wiki/List_of_ISO_639_language_codes\n",
    "#\n",
    "def translate(input_text, source_lang, target_lang):\n",
    "    # tokenze input\n",
    "    tokenizer.source_lang = source_lang\n",
    "    encoded_lang = tokenizer(input_text, return_tensors=\"pt\").to(device)\n",
    "\n",
    "    # Get target language token ID\n",
    "    target_lang_id = tokenizer.get_lang_id(target_lang)\n",
    "\n",
    "    # Generate translation\n",
    "    generated_tokens = model.generate(**encoded_lang, forced_bos_token_id=target_lang_id)\n",
    "    output_text = tokenizer.batch_decode(generated_tokens, skip_special_tokens=True)\n",
    "\n",
    "    return output_text\n",
    "\n",
    "translate('Hi! What is your name?', 'en', 'es')"
   ]
  },
  {
   "cell_type": "markdown",
   "metadata": {},
   "source": [
    "## Named-Entity Recognition"
   ]
  },
  {
   "cell_type": "code",
   "execution_count": 21,
   "metadata": {},
   "outputs": [
    {
     "name": "stderr",
     "output_type": "stream",
     "text": [
      "Some weights of the model checkpoint at dslim/bert-large-NER were not used when initializing BertForTokenClassification: ['bert.pooler.dense.bias', 'bert.pooler.dense.weight']\n",
      "- This IS expected if you are initializing BertForTokenClassification from the checkpoint of a model trained on another task or with another architecture (e.g. initializing a BertForSequenceClassification model from a BertForPreTraining model).\n",
      "- This IS NOT expected if you are initializing BertForTokenClassification from the checkpoint of a model that you expect to be exactly identical (initializing a BertForSequenceClassification model from a BertForSequenceClassification model).\n"
     ]
    },
    {
     "name": "stdout",
     "output_type": "stream",
     "text": [
      "[{'entity': 'B-PER', 'score': 0.9990932, 'index': 1, 'word': 'Lex', 'start': 1, 'end': 4}, {'entity': 'B-PER', 'score': 0.99928015, 'index': 3, 'word': 'Cassidy', 'start': 6, 'end': 13}, {'entity': 'B-PER', 'score': 0.99924445, 'index': 5, 'word': 'Kerry', 'start': 15, 'end': 20}, {'entity': 'B-MISC', 'score': 0.9988558, 'index': 39, 'word': 'Dutch', 'start': 207, 'end': 212}, {'entity': 'B-MISC', 'score': 0.998615, 'index': 41, 'word': 'English', 'start': 216, 'end': 223}, {'entity': 'B-MISC', 'score': 0.99892265, 'index': 49, 'word': 'Dutch', 'start': 261, 'end': 266}, {'entity': 'B-MISC', 'score': 0.98947, 'index': 60, 'word': 'Dutch', 'start': 328, 'end': 333}, {'entity': 'B-ORG', 'score': 0.8973899, 'index': 78, 'word': 'Google', 'start': 400, 'end': 406}, {'entity': 'B-MISC', 'score': 0.99923015, 'index': 82, 'word': 'Dutch', 'start': 425, 'end': 430}, {'entity': 'B-MISC', 'score': 0.9988023, 'index': 118, 'word': 'Dutch', 'start': 582, 'end': 587}, {'entity': 'B-MISC', 'score': 0.9951649, 'index': 288, 'word': 'E', 'start': 1372, 'end': 1373}, {'entity': 'I-MISC', 'score': 0.9498916, 'index': 289, 'word': '##SL', 'start': 1373, 'end': 1375}]\n",
      "People mentioned: ['Lex', 'Cassidy', 'Kerry']\n",
      "organizations mentioned: ['Google']\n"
     ]
    }
   ],
   "source": [
    "# Single line example\n",
    "from transformers import AutoTokenizer, AutoModelForTokenClassification\n",
    "from transformers import pipeline\n",
    "device = torch.device(\"cuda\" if torch.cuda.is_available() else \"cpu\")\n",
    "\n",
    "model_id = 'dslim/bert-large-NER'\n",
    "tokenizer = AutoTokenizer.from_pretrained(model_id)\n",
    "model = AutoModelForTokenClassification.from_pretrained(model_id).to(device)\n",
    "\n",
    "nlp = pipeline(\"ner\", model=model, tokenizer=tokenizer)\n",
    "\n",
    "################################################################################\n",
    "long_text = '''\n",
    "Lex, Cassidy, Kerry That thing about culture being reflected in language really \n",
    "struck me. Having spent a fair amount of time in the recent past working with my \n",
    "daughter to translate a police report from Dutch to English for an insurance \n",
    "claim - knowing no Dutch myself and my daughter only knowing a little \n",
    "conversational Dutch - that is most certainly the case. In case you haven't tried \n",
    "it, Google translate mangles Dutch (both directions) and part of the reason is \n",
    "that the entire attitude toward the world is different. We tell our kids to \"Do \n",
    "your best! Be good!\" and Dutch parents tell their children \"Be normal!\"The idioms \n",
    "are so completely foreign as to render some meanings completely incomprehensible. \n",
    "The opportunity for misinterpretations in email can be enormous. For instance, I \n",
    "innocently forwarded an invitation to a risk manager's organization to my former \n",
    "Director - the description of the organization seemed as if it were at a higher \n",
    "management level than I occupied, and I thought she might like to make contact \n",
    "with the important people reported to be members of the group. I made a \n",
    "self-deprecating joke about it being \"too rich for my blood.\" She was so \n",
    "offended that she gave me a verbal reprimand in front of my immediate supervisor \n",
    "for passing along the email. I had no idea I had said anything wrong! Those of \n",
    "you that teach ESL or speak multiple languages - I can't even imagine how you \n",
    "manage the cultural divides.  My hat is off to you. (\"my cap is gone to you.\")\n",
    "'''\n",
    "\n",
    "ner_results = nlp(long_text)\n",
    "print(ner_results)\n",
    "people = [item['word'] for item in ner_results if item['entity']=='B-PER' ]\n",
    "orgs   = [item['word'] for item in ner_results if item['entity']=='B-ORG']\n",
    "print(f'People mentioned: {people}')\n",
    "print(f'organizations mentioned: {orgs}')\n"
   ]
  },
  {
   "cell_type": "code",
   "execution_count": 30,
   "metadata": {},
   "outputs": [
    {
     "name": "stdout",
     "output_type": "stream",
     "text": [
      "(1) person, (2) behavior, and (3) environment\n"
     ]
    }
   ],
   "source": [
    "from transformers import AutoModelForQuestionAnswering, AutoTokenizer, pipeline\n",
    "\n",
    "long_text = '''My own definition of culture is: A group of people who share and \n",
    "follow a set of spoken and in some cases unspoken beliefs, ideas, traditions, \n",
    "values, and knowledge both tacit and explicit. My own definition of eLearning \n",
    "is: Learning and teaching that utilizes technology and electronic media formats \n",
    "over traditional resources. The three pillars that determine the success or \n",
    "failure of e-learning programs are the interconnectedness among \n",
    "(1) person, (2) behavior, and (3) environment. These are the three major areas that \n",
    "interventions should target. 1.E-learners' cognitive skills: E-learners must \n",
    "have the prerequisite knowledge and skills necessary to participate in \n",
    "e-learning. Computer competency through training, and practice, and time \n",
    "management skills are essential. 2.Environment: Organizations must support \n",
    "e-learning by offering a supportive culture, incentives, models, resources, and\n",
    "fostering e-learning self-efficacy. 3. Belief and behavior: E-learners' must \n",
    "have high e-learning self-efficacy and the appropriate behavioral skills such as\n",
    "taking responsibility for learning (Mungania, 2003). From this example in the \n",
    "research article \"\"The Seven eLearning Barriers Facing Employees,\"\" I begin to \n",
    "see where eLearning and culture can have some commonalities. I believe that like\n",
    "these 3 pillars that determine the success or failure of eLearning programs, these\n",
    "3 pillars can create or remove barriers within a culture. I notice how culture is \n",
    "associated with traits such as cognitive skills of the culture, the environment in \n",
    "which the culture thrives, and the beliefs and behaviors of the culture. As we \n",
    "implement eLearning strategies into different cultures, we must look at these 3 \n",
    "pillars to create and maintain a successful eLearning program for the target \n",
    "culture. ELearning, like culture is not one size fits all and requires some \n",
    "different approaches to how it is employed in order to suit the target culture. \n",
    "I look forward to your definitions and to this discussion, have a great week \n",
    "everyone!\n",
    "'''\n",
    "\n",
    "my_question = 'What are the three pillars that determine the success of e-learning?'\n",
    "model_id = \"deepset/roberta-base-squad2\"\n",
    "\n",
    "question_answerer = pipeline(\"question-answering\", model=model_id, tokenizer=model_id)\n",
    "reply = question_answerer(question=my_question, context=long_text)\n",
    "\n",
    "print(reply['answer'])"
   ]
  }
 ],
 "metadata": {
  "kernelspec": {
   "display_name": "SLAM",
   "language": "python",
   "name": "python3"
  },
  "language_info": {
   "codemirror_mode": {
    "name": "ipython",
    "version": 3
   },
   "file_extension": ".py",
   "mimetype": "text/x-python",
   "name": "python",
   "nbconvert_exporter": "python",
   "pygments_lexer": "ipython3",
   "version": "3.12.2"
  }
 },
 "nbformat": 4,
 "nbformat_minor": 2
}
