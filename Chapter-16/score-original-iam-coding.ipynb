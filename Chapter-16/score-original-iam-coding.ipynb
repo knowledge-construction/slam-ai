{
 "cells": [
  {
   "cell_type": "code",
   "execution_count": 5,
   "metadata": {},
   "outputs": [],
   "source": [
    "import pandas as pd\n",
    "import regex  as re\n",
    "\n",
    "from sklearn.metrics import confusion_matrix\n",
    "from sklearn.metrics import classification_report\n"
   ]
  },
  {
   "cell_type": "code",
   "execution_count": 8,
   "metadata": {},
   "outputs": [
    {
     "data": {
      "text/plain": [
       "Index(['user', 'text', 'code', 'pred'], dtype='object')"
      ]
     },
     "execution_count": 8,
     "metadata": {},
     "output_type": "execute_result"
    }
   ],
   "source": [
    "filename = 'Original-IAM-Coding.csv'\n",
    "filepath = '.'\n",
    "fullpath = f'{filepath}/{filename}'\n",
    "df = pd.read_csv(fullpath, encoding='utf-8')\n",
    "df.columns"
   ]
  },
  {
   "cell_type": "code",
   "execution_count": 34,
   "metadata": {},
   "outputs": [
    {
     "name": "stdout",
     "output_type": "stream",
     "text": [
      "[True, False, False, True, False, True, True, True, True, True, True, False, False, True, True, False, True, True, False, False, False, True, False, False, False, True, False, False, False, False, True, True]\n",
      "0.5\n",
      "['I', 'I', 'I', 'I', 'I', 'I', 'I', 'II', 'II', 'II', 'II', 'III', 'III', 'III', 'III', 'III', 'III', 'III', 'III', 'III', 'III', 'III', 'IV', 'IV', 'IV', 'V', 'V', 'V', 'V', 'V', 'V', 'V'] \n",
      " ['I', 'III', 'II', 'I', 'III', 'I', 'I', 'II', 'II', 'II', 'II', 'I', 'V', 'III', 'III', 'II', 'III', 'III', 'II', 'I', 'I', 'III', 'III', 'III', 'I', 'V', 'II', 'III', 'II', 'II', 'V', 'V']\n",
      "\n",
      "\n",
      "B) Confusion Matrix:\n",
      "[[4 1 2 0 0]\n",
      " [0 4 0 0 0]\n",
      " [3 2 5 0 1]\n",
      " [1 0 2 0 0]\n",
      " [0 3 1 0 3]]\n",
      "\n",
      "\n",
      "C) Precision, Recall, F1\n",
      "              precision    recall  f1-score   support\n",
      "\n",
      "           I       0.50      0.57      0.53         7\n",
      "          II       0.40      1.00      0.57         4\n",
      "         III       0.50      0.45      0.48        11\n",
      "          IV       0.00      0.00      0.00         3\n",
      "           V       0.75      0.43      0.55         7\n",
      "\n",
      "    accuracy                           0.50        32\n",
      "   macro avg       0.43      0.49      0.43        32\n",
      "weighted avg       0.50      0.50      0.47        32\n",
      "\n"
     ]
    },
    {
     "name": "stderr",
     "output_type": "stream",
     "text": [
      "/home/professorf/miniconda3/envs/SLAM/lib/python3.12/site-packages/sklearn/metrics/_classification.py:1509: UndefinedMetricWarning: Precision is ill-defined and being set to 0.0 in labels with no predicted samples. Use `zero_division` parameter to control this behavior.\n",
      "  _warn_prf(average, modifier, f\"{metric.capitalize()} is\", len(result))\n",
      "/home/professorf/miniconda3/envs/SLAM/lib/python3.12/site-packages/sklearn/metrics/_classification.py:1509: UndefinedMetricWarning: Precision is ill-defined and being set to 0.0 in labels with no predicted samples. Use `zero_division` parameter to control this behavior.\n",
      "  _warn_prf(average, modifier, f\"{metric.capitalize()} is\", len(result))\n",
      "/home/professorf/miniconda3/envs/SLAM/lib/python3.12/site-packages/sklearn/metrics/_classification.py:1509: UndefinedMetricWarning: Precision is ill-defined and being set to 0.0 in labels with no predicted samples. Use `zero_division` parameter to control this behavior.\n",
      "  _warn_prf(average, modifier, f\"{metric.capitalize()} is\", len(result))\n"
     ]
    }
   ],
   "source": [
    "#\n",
    "# Phase accuracy\n",
    "#\n",
    "\n",
    "# go through each predicted result (can be multiple) and grab just phases\n",
    "predictions = []\n",
    "for prediction in df.pred:\n",
    "    prediction = re.sub(r'\\..', '', prediction) # remove the operation\n",
    "    prediction = prediction.split(',')\n",
    "    prediction = list(dict.fromkeys(prediction))\n",
    "    predictions.append(prediction)\n",
    "\n",
    "codes = []\n",
    "for coded in df.code:\n",
    "    coded = re.sub(r'\\..', '', coded) \n",
    "    coded = coded.split(',')\n",
    "    coded = list(dict.fromkeys(coded))\n",
    "    codes.append(coded)\n",
    "\n",
    "scores = []\n",
    "for i,prediction in enumerate(predictions):\n",
    "    code = codes[i]\n",
    "    result = bool(set(prediction).intersection(set(code)))\n",
    "    scores.append(result)\n",
    "print(scores)\n",
    "print(sum(scores)/len(scores))\n",
    "  \n",
    "#\n",
    "# Creaate actual vs predicted columns\n",
    "#    \n",
    "\n",
    "# Because there can be more than one label, if there's an intersection\n",
    "#   then label both with the intersection, if not, pick the first label\n",
    "\n",
    "output_predicted = []\n",
    "output_actual = []\n",
    "for i, prediction in enumerate(predictions):\n",
    "    code = codes[i]\n",
    "    result = list(set(prediction).intersection(set(code)))\n",
    "    if bool(result):\n",
    "        output_predicted.append(result[0])\n",
    "        output_actual.append   (result[0])\n",
    "    else:\n",
    "        output_predicted.append(prediction[0])\n",
    "        output_actual.append(code[0])\n",
    "\n",
    "print(output_actual, '\\n', output_predicted)\n",
    "\n",
    "# B. Confusion matrix\n",
    "conf_mat = confusion_matrix(output_actual, output_predicted)\n",
    "print('\\n\\nB) Confusion Matrix:')\n",
    "print(conf_mat)\n",
    "\n",
    "# C. Precision, Recall, F1\n",
    "report = classification_report(output_actual, output_predicted)\n",
    "print('\\n\\nC) Precision, Recall, F1')\n",
    "print(report)"
   ]
  },
  {
   "cell_type": "code",
   "execution_count": null,
   "metadata": {},
   "outputs": [],
   "source": []
  }
 ],
 "metadata": {
  "kernelspec": {
   "display_name": "SLAM",
   "language": "python",
   "name": "python3"
  },
  "language_info": {
   "codemirror_mode": {
    "name": "ipython",
    "version": 3
   },
   "file_extension": ".py",
   "mimetype": "text/x-python",
   "name": "python",
   "nbconvert_exporter": "python",
   "pygments_lexer": "ipython3",
   "version": "3.12.2"
  }
 },
 "nbformat": 4,
 "nbformat_minor": 2
}
